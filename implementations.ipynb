{
 "cells": [
  {
   "cell_type": "code",
   "execution_count": 6,
   "source": [
    "import numpy as np\r\n",
    "import matplotlib.pyplot as plt"
   ],
   "outputs": [],
   "metadata": {}
  },
  {
   "cell_type": "code",
   "execution_count": 7,
   "source": [
    "def compute_loss(y, tx, w, type=\"mse\"):\r\n",
    "    \"\"\"Calculate the loss using mse.\"\"\"\r\n",
    "    N = y.shape[0]\r\n",
    "    fw = np.matmul(tx,w)\r\n",
    "    if type==\"mse\":\r\n",
    "        return (1/(2*N)*np.matmul(y-fw,(y-fw).T))\r\n",
    "    if type==\"mae\":\r\n",
    "        return (1/N*np.sum(np.abs(y-fw)))\r\n",
    "\r\n",
    "def compute_gradient(y, tx, w):\r\n",
    "    \"\"\"Compute the gradient.\"\"\"\r\n",
    "    N=y.size\r\n",
    "    e=y-np.matmul(tx,w)\r\n",
    "    return(-1/N*np.matmul(tx.T,e))\r\n",
    "\r\n",
    "def compute_stoch_gradient(y, tx, w):\r\n",
    "    \"\"\"Compute a stochastic gradient from just few examples n and their corresponding y_n labels.\"\"\"\r\n",
    "    N=y.size\r\n",
    "    e=y-np.matmul(tx,w)\r\n",
    "    return(-1/N*np.matmul(tx.T,e))"
   ],
   "outputs": [],
   "metadata": {}
  },
  {
   "cell_type": "code",
   "execution_count": 8,
   "source": [
    "def least_squares_GD(y, tx, initial_w, max_iters, gamma):\r\n",
    "    #linear regression using gradient descent\r\n",
    "    w = initial_w\r\n",
    "    w = initial_w\r\n",
    "    for n_iter in range(max_iters):\r\n",
    "        gr=compute_gradient(y,tx,w)\r\n",
    "        loss=(compute_loss(y,tx,w))\r\n",
    "        w=w-gamma*gr\r\n",
    "        #print(\"Gradient Descent({bi}/{ti}): loss={l}, w0={w0}, w1={w1}\".format(\r\n",
    "        #      bi=n_iter, ti=max_iters - 1, l=loss, w0=w[0], w1=w[1]))\r\n",
    "    return (w, loss)"
   ],
   "outputs": [],
   "metadata": {}
  },
  {
   "cell_type": "code",
   "execution_count": 10,
   "source": [
    "def batch_iter(y, tx, batch_size, num_batches=1, shuffle=True):\r\n",
    "    \"\"\"\r\n",
    "    Generate a minibatch iterator for a dataset.\r\n",
    "    Takes as input two iterables (here the output desired values 'y' and the input data 'tx')\r\n",
    "    Outputs an iterator which gives mini-batches of `batch_size` matching elements from `y` and `tx`.\r\n",
    "    Data can be randomly shuffled to avoid ordering in the original data messing with the randomness of the minibatches.\r\n",
    "    Example of use :\r\n",
    "    for minibatch_y, minibatch_tx in batch_iter(y, tx, 32):\r\n",
    "        <DO-SOMETHING>\r\n",
    "    \"\"\"\r\n",
    "    data_size = len(y)\r\n",
    "\r\n",
    "    if shuffle:\r\n",
    "        shuffle_indices = np.random.permutation(np.arange(data_size))\r\n",
    "        shuffled_y = y[shuffle_indices]\r\n",
    "        shuffled_tx = tx[shuffle_indices]\r\n",
    "    else:\r\n",
    "        shuffled_y = y\r\n",
    "        shuffled_tx = tx\r\n",
    "    for batch_num in range(num_batches):\r\n",
    "        start_index = batch_num * batch_size\r\n",
    "        end_index = min((batch_num + 1) * batch_size, data_size)\r\n",
    "        if start_index != end_index:\r\n",
    "            yield shuffled_y[start_index:end_index], shuffled_tx[start_index:end_index]\r\n"
   ],
   "outputs": [],
   "metadata": {}
  },
  {
   "cell_type": "code",
   "execution_count": 13,
   "source": [
    "def least_squares_SGD(y, tx, initial_w, max_iters, gamma):\r\n",
    "    #linear regression using gradient descent\r\n",
    "    batch_size = 1\r\n",
    "    w = initial_w\r\n",
    "    for n_iter in range(max_iters):\r\n",
    "        sum=0\r\n",
    "        for minibatch_y, minibatch_tx in batch_iter(y, tx, batch_size):\r\n",
    "            sum+=compute_stoch_gradient(minibatch_y,minibatch_tx,w)\r\n",
    "        gr=1/minibatch_y.shape[0]*sum\r\n",
    "        loss=compute_loss(y,tx, w)\r\n",
    "        w=w-gamma*gr\r\n",
    "        print(\"Gradient Descent({bi}/{ti}): loss={l}, w0={w0}, w1={w1}\".format(\r\n",
    "              bi=n_iter, ti=max_iters - 1, l=loss, w0=w[0], w1=w[1]))\r\n",
    "    return (w, loss)"
   ],
   "outputs": [],
   "metadata": {}
  },
  {
   "cell_type": "code",
   "execution_count": null,
   "source": [],
   "outputs": [],
   "metadata": {}
  }
 ],
 "metadata": {
  "orig_nbformat": 4,
  "language_info": {
   "name": "python",
   "version": "3.8.5",
   "mimetype": "text/x-python",
   "codemirror_mode": {
    "name": "ipython",
    "version": 3
   },
   "pygments_lexer": "ipython3",
   "nbconvert_exporter": "python",
   "file_extension": ".py"
  },
  "kernelspec": {
   "name": "python3",
   "display_name": "Python 3.8.5 64-bit ('base': conda)"
  },
  "interpreter": {
   "hash": "c5f0c21a4d748314dbe9d2089055473f1ace0c50f4a2cbfb4e3f48e8edf2447f"
  }
 },
 "nbformat": 4,
 "nbformat_minor": 2
}