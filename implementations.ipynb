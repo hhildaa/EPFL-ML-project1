{
 "cells": [
  {
   "cell_type": "code",
   "execution_count": 1,
   "metadata": {},
   "outputs": [],
   "source": [
    "import numpy as np\n",
    "import matplotlib.pyplot as plt"
   ]
  },
  {
   "cell_type": "code",
   "execution_count": 2,
   "metadata": {},
   "outputs": [],
   "source": [
    "def compute_loss(y, tx, w, type=\"mse\"):\n",
    "    \"\"\"Calculate the loss using mse.\"\"\"\n",
    "    N = y.shape[0]\n",
    "    fw = np.matmul(tx,w)\n",
    "    if type==\"mse\":\n",
    "        return (1/(2*N)*np.matmul(y-fw,(y-fw).T))\n",
    "    if type==\"mae\":\n",
    "        return (1/N*np.sum(np.abs(y-fw)))\n",
    "\n",
    "def compute_gradient(y, tx, w):\n",
    "    \"\"\"Compute the gradient.\"\"\"\n",
    "    N=y.size\n",
    "    e=y-np.matmul(tx,w)\n",
    "    return(-1/N*np.matmul(tx.T,e))\n",
    "\n",
    "def compute_stoch_gradient(y, tx, w):\n",
    "    \"\"\"Compute a stochastic gradient from just few examples n and their corresponding y_n labels.\"\"\"\n",
    "    N=y.size\n",
    "    e=y-np.matmul(tx,w)\n",
    "    return(-1/N*np.matmul(tx.T,e))"
   ]
  },
  {
   "cell_type": "code",
   "execution_count": 3,
   "metadata": {},
   "outputs": [],
   "source": [
    "def least_squares_GD(y, tx, initial_w, max_iters, gamma):\n",
    "    #linear regression using gradient descent\n",
    "    w = initial_w\n",
    "    w = initial_w\n",
    "    for n_iter in range(max_iters):\n",
    "        gr=compute_gradient(y,tx,w)\n",
    "        loss=(compute_loss(y,tx,w))\n",
    "        w=w-gamma*gr\n",
    "        #print(\"Gradient Descent({bi}/{ti}): loss={l}, w0={w0}, w1={w1}\".format(\n",
    "        #      bi=n_iter, ti=max_iters - 1, l=loss, w0=w[0], w1=w[1]))\n",
    "    return (w, loss)"
   ]
  },
  {
   "cell_type": "code",
   "execution_count": 4,
   "metadata": {},
   "outputs": [],
   "source": [
    "def batch_iter(y, tx, batch_size, num_batches=1, shuffle=True):\n",
    "    \"\"\"\n",
    "    Generate a minibatch iterator for a dataset.\n",
    "    Takes as input two iterables (here the output desired values 'y' and the input data 'tx')\n",
    "    Outputs an iterator which gives mini-batches of `batch_size` matching elements from `y` and `tx`.\n",
    "    Data can be randomly shuffled to avoid ordering in the original data messing with the randomness of the minibatches.\n",
    "    Example of use :\n",
    "    for minibatch_y, minibatch_tx in batch_iter(y, tx, 32):\n",
    "        <DO-SOMETHING>\n",
    "    \"\"\"\n",
    "    data_size = len(y)\n",
    "\n",
    "    if shuffle:\n",
    "        shuffle_indices = np.random.permutation(np.arange(data_size))\n",
    "        shuffled_y = y[shuffle_indices]\n",
    "        shuffled_tx = tx[shuffle_indices]\n",
    "    else:\n",
    "        shuffled_y = y\n",
    "        shuffled_tx = tx\n",
    "    for batch_num in range(num_batches):\n",
    "        start_index = batch_num * batch_size\n",
    "        end_index = min((batch_num + 1) * batch_size, data_size)\n",
    "        if start_index != end_index:\n",
    "            yield shuffled_y[start_index:end_index], shuffled_tx[start_index:end_index]\n"
   ]
  },
  {
   "cell_type": "code",
   "execution_count": 5,
   "metadata": {},
   "outputs": [],
   "source": [
    "def least_squares_SGD(y, tx, initial_w, max_iters, gamma):\n",
    "    #linear regression using gradient descent\n",
    "    batch_size = 1\n",
    "    w = initial_w\n",
    "    for n_iter in range(max_iters):\n",
    "        for minibatch_y, minibatch_tx in batch_iter(y, tx, batch_size):\n",
    "            gr=compute_stoch_gradient(minibatch_y,minibatch_tx,w)\n",
    "            w=w-gamma*gr\n",
    "        loss=compute_loss(y,tx, w)\n",
    "            \n",
    "        print(\"Gradient Descent({bi}/{ti}): loss={l}, w0={w0}, w1={w1}\".format(\n",
    "              bi=n_iter, ti=max_iters - 1, l=loss, w0=w[0], w1=w[1]))\n",
    "    return (w, loss)"
   ]
  },
  {
   "cell_type": "code",
   "execution_count": 1,
   "metadata": {},
   "outputs": [],
   "source": [
    "def ridge_regression(y, tx, lambda_):\n",
    "    \"\"\"implement ridge regression.\"\"\"\n",
    "    tx_t = np.transpose(tx)\n",
    "    N, D = tx.shape\n",
    "    linear_func = tx_t.dot(tx) + (2 * N * lambda_ * np.identity(D))\n",
    "    Xty = tx_t.dot(y)\n",
    "    weights = np.linalg.solve(linear_func, Xty)\n",
    "    mse = compute_mse(y, tx, weights)\n",
    "    return weights, mse"
   ]
  },
  {
   "cell_type": "code",
   "execution_count": 2,
   "metadata": {},
   "outputs": [],
   "source": [
    "def compute_ridge_gradient(y, tx, lambda_, w):\n",
    "    \"\"\"returns gradient for ridge regression\"\"\"\n",
    "    grad = compute_gradient(y, tx, w)\n",
    "    return grad + 2*lambda_*w"
   ]
  },
  {
   "cell_type": "code",
   "execution_count": 6,
   "metadata": {},
   "outputs": [],
   "source": [
    "def sigmoid(z):\n",
    "    return 1.0 / (1 + np.exp(-z))\n",
    "\n",
    "def clipping(h):\n",
    "    abs_threshold = 15\n",
    "    h[h > abs_threshold] = abs_threshold\n",
    "    h[h < -abs_threshold] = -abs_threshold\n",
    "    return h"
   ]
  },
  {
   "cell_type": "code",
   "execution_count": 7,
   "metadata": {},
   "outputs": [],
   "source": [
    "def cross_entropy_loss(y, tx, w):\n",
    "    # clipping values to avoid INF loss\n",
    "    h = sigmoid(clipping(tx @ w))\n",
    "    return np.squeeze((-y.T @ np.log(h)) + (-(1 - y).T @ np.log(1 - h)))\n",
    "                  \n",
    "def cross_entropy_gradient(y, tx, w):\n",
    "    h = sigmoid(tx @ w)\n",
    "    return (tx.T @ (h - y))"
   ]
  },
  {
   "cell_type": "code",
   "execution_count": 8,
   "metadata": {},
   "outputs": [],
   "source": [
    "def regularized_cross_entropy_loss(y, tx, w, lambda_):\n",
    "    return cross_entropy_loss(y, tx, w) + lambda_ * np.squeeze(w.T @ w)\n",
    "\n",
    "def regularized_cross_entropy_gradient(y, tx, w, lambda_):\n",
    "    return cross_entropy_gradient(y, tx, w) + 2 * lambda_ * w"
   ]
  },
  {
   "cell_type": "code",
   "execution_count": 9,
   "metadata": {},
   "outputs": [],
   "source": [
    "def logistic_regression(y, tx, initial_w, max_iters, gamma, batch_size=1):\n",
    "    w = initial_w\n",
    "    for n_iter in range(max_iters):\n",
    "        for minibatch_y, minibatch_tx in batch_iter(y, tx, batch_size):\n",
    "            gr = cross_entropy_gradient(minibatch_y, minibatch_tx, w)\n",
    "            w = w - gamma * gr\n",
    "            \n",
    "        loss = cross_entropy_loss(y, tx, w)\n",
    "            \n",
    "#        print(\"SGD ({bi}/{ti}): loss={l}, w0={w0}, w1={w1}\".format(\n",
    "#              bi=n_iter, ti=max_iters - 1, l=loss, w0=w[0], w1=w[1]))\n",
    "    return (w, loss)"
   ]
  },
  {
   "cell_type": "code",
   "execution_count": 10,
   "metadata": {},
   "outputs": [],
   "source": [
    "def reg_logistic_regression(y, tx, lambda_ , initial_w, max_iters, gamma, batch_size=1):\n",
    "    w = initial_w\n",
    "    for n_iter in range(max_iters):\n",
    "        for minibatch_y, minibatch_tx in batch_iter(y, tx, batch_size):\n",
    "            gr = regularized_cross_entropy_gradient(minibatch_y, minibatch_tx, w, lambda_)\n",
    "            w = w - gamma * gr\n",
    "            \n",
    "        loss = regularized_cross_entropy_loss(y, tx, w, lambda_)\n",
    "            \n",
    "#        print(\"SGD({bi}/{ti}): loss={l}, w0={w0}, w1={w1}\".format(\n",
    "#              bi=n_iter, ti=max_iters - 1, l=loss, w0=w[0], w1=w[1]))\n",
    "    return (w, loss)"
   ]
  },
  {
   "cell_type": "code",
   "execution_count": 11,
   "metadata": {},
   "outputs": [],
   "source": [
    "# BASIC TEST\n",
    "\n",
    "from sklearn.datasets import make_classification\n",
    "X, y = make_classification(n_samples=1000, n_features=4)"
   ]
  },
  {
   "cell_type": "code",
   "execution_count": 12,
   "metadata": {},
   "outputs": [
    {
     "name": "stdout",
     "output_type": "stream",
     "text": [
      "True\n"
     ]
    }
   ],
   "source": [
    "w, loss = logistic_regression(y, X, np.zeros(X.shape[1]), 1000, 1e-3, batch_size=y.shape[0])\n",
    "w_reg, loss_reg = reg_logistic_regression(y, X, 0, np.zeros(X.shape[1]), 1000, 1e-3, batch_size=y.shape[0])\n",
    "print(np.linalg.norm(w - w_reg) < 1e-5)"
   ]
  }
 ],
 "metadata": {
  "interpreter": {
   "hash": "c5f0c21a4d748314dbe9d2089055473f1ace0c50f4a2cbfb4e3f48e8edf2447f"
  },
  "kernelspec": {
   "display_name": "Python 3",
   "language": "python",
   "name": "python3"
  },
  "language_info": {
   "codemirror_mode": {
    "name": "ipython",
    "version": 3
   },
   "file_extension": ".py",
   "mimetype": "text/x-python",
   "name": "python",
   "nbconvert_exporter": "python",
   "pygments_lexer": "ipython3",
   "version": "3.7.1"
  }
 },
 "nbformat": 4,
 "nbformat_minor": 4
}
